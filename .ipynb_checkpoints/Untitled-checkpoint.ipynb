{
 "cells": [
  {
   "cell_type": "code",
   "execution_count": 1,
   "id": "b3f51b66-2922-4f8e-8b13-617e81bd33b2",
   "metadata": {},
   "outputs": [
    {
     "name": "stdout",
     "output_type": "stream",
     "text": [
      "7\n"
     ]
    }
   ],
   "source": [
    "#increement\n",
    "x=5\n",
    "x+=2\n",
    "print(x)"
   ]
  },
  {
   "cell_type": "code",
   "execution_count": 2,
   "id": "17cab430-9549-4036-a9fc-f568cadf204e",
   "metadata": {},
   "outputs": [
    {
     "name": "stdout",
     "output_type": "stream",
     "text": [
      "4\n"
     ]
    }
   ],
   "source": [
    "#decreement\n",
    "x=5\n",
    "x-=1\n",
    "print(x)"
   ]
  },
  {
   "cell_type": "code",
   "execution_count": 3,
   "id": "455556a4-6cfc-4c94-be9c-ab2d7e45a02c",
   "metadata": {},
   "outputs": [
    {
     "name": "stdout",
     "output_type": "stream",
     "text": [
      "Kaium\n",
      "Kaium\n",
      "Kaium\n",
      "Kaium\n",
      "Kaium\n",
      "Kaium\n",
      "Kaium\n",
      "Kaium\n",
      "Kaium\n",
      "Kaium\n"
     ]
    }
   ],
   "source": [
    "#loop basically repatetions\n",
    "for i in range(10):  #for use kori jokhon amra jani kotobar loop cholbe\n",
    "    print(\"Kaium\")\n"
   ]
  },
  {
   "cell_type": "code",
   "execution_count": null,
   "id": "8d621c05-50dc-4f8d-af6a-4973a24012c7",
   "metadata": {},
   "outputs": [
    {
     "name": "stdout",
     "output_type": "stream",
     "text": [
      "Kaium\n",
      "Kaium\n",
      "Kaium\n",
      "Kaium\n",
      "Kaium\n",
      "Kaium\n",
      "Kaium\n",
      "Kaium\n",
      "Kaium\n",
      "Kaium\n",
      "Kaium\n",
      "Kaium\n",
      "Kaium\n",
      "Kaium\n",
      "Kaium\n",
      "Kaium\n",
      "Kaium\n",
      "Kaium\n",
      "Kaium\n",
      "Kaium\n",
      "Kaium\n",
      "Kaium\n",
      "Kaium\n",
      "Kaium\n",
      "Kaium\n",
      "Kaium\n",
      "Kaium\n",
      "Kaium\n",
      "Kaium\n",
      "Kaium\n",
      "Kaium\n"
     ]
    }
   ],
   "source": [
    "#sysntax of while:   \n",
    "#while condition:\n",
    "    #code to execute\n",
    "import time\n",
    "while True:\n",
    "    print(\"Kaium\")\n",
    "    time.sleep(1)"
   ]
  },
  {
   "cell_type": "code",
   "execution_count": null,
   "id": "36b67cbe-1577-4995-bfd9-c666ac041245",
   "metadata": {},
   "outputs": [],
   "source": []
  }
 ],
 "metadata": {
  "kernelspec": {
   "display_name": "Python (MLTestvenv)",
   "language": "python",
   "name": "mltestvenv"
  },
  "language_info": {
   "codemirror_mode": {
    "name": "ipython",
    "version": 3
   },
   "file_extension": ".py",
   "mimetype": "text/x-python",
   "name": "python",
   "nbconvert_exporter": "python",
   "pygments_lexer": "ipython3",
   "version": "3.10.18"
  }
 },
 "nbformat": 4,
 "nbformat_minor": 5
}
