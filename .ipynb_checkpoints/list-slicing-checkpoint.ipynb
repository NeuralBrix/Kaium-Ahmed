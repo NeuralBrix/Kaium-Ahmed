{
 "cells": [
  {
   "cell_type": "code",
   "execution_count": 1,
   "id": "15b32e45-9973-4837-96f7-b45187665b0b",
   "metadata": {},
   "outputs": [],
   "source": [
    "#list_slicing :sysntax:-   list_name[start:end:step]   * end e j value thakbe tar aage porjonto count hbe ex.5 bolle 4 prjnto\n",
    "list_1=[1,2,3,4,5,6,7,8,9,10] #index 0 to 9\n"
   ]
  },
  {
   "cell_type": "code",
   "execution_count": 9,
   "id": "84420c63-821f-4bf1-9ee6-19cdd5f0631e",
   "metadata": {},
   "outputs": [
    {
     "data": {
      "text/plain": [
       "[1, 3, 5, 7]"
      ]
     },
     "execution_count": 9,
     "metadata": {},
     "output_type": "execute_result"
    }
   ],
   "source": [
    "list_1[0:7:2]  "
   ]
  },
  {
   "cell_type": "code",
   "execution_count": 3,
   "id": "ac72ab01-47df-4160-bc4d-182f81a81bd5",
   "metadata": {},
   "outputs": [
    {
     "data": {
      "text/plain": [
       "[6, 7, 8, 9, 10]"
      ]
     },
     "execution_count": 3,
     "metadata": {},
     "output_type": "execute_result"
    }
   ],
   "source": [
    "list_1[5:10]"
   ]
  },
  {
   "cell_type": "code",
   "execution_count": 6,
   "id": "4d5b0165-eb55-4f91-830a-7c37403dddf3",
   "metadata": {},
   "outputs": [
    {
     "data": {
      "text/plain": [
       "'Mahedi'"
      ]
     },
     "execution_count": 6,
     "metadata": {},
     "output_type": "execute_result"
    }
   ],
   "source": [
    "my_name = \"Mahedi Hasan\"   # list_name[start:end:step]   * end e j value thakbe tar aage porjonto count hbe ex. index no 6 bolle index no 5 prjnto  \n",
    "my_name[0:6]"
   ]
  },
  {
   "cell_type": "code",
   "execution_count": 10,
   "id": "4300096d-cdd8-4826-955f-7eda5a0ffd65",
   "metadata": {},
   "outputs": [],
   "source": [
    "#index: 0 to 9 [0,1,2,3,4,5,6,7,8,9]\n",
    "list_2=[1,2,3,4,5,6,7,8,9,10] #negative index: -10 to -1 [-10,-9,-8,-7,-6,-5,-4,-3,-2,-1]"
   ]
  },
  {
   "cell_type": "code",
   "execution_count": 11,
   "id": "b053d8bf-5e71-42b0-bc12-c97015eefbd0",
   "metadata": {},
   "outputs": [
    {
     "data": {
      "text/plain": [
       "[3, 4, 5, 6, 7, 8]"
      ]
     },
     "execution_count": 11,
     "metadata": {},
     "output_type": "execute_result"
    }
   ],
   "source": [
    "list_2[-8:-2]"
   ]
  },
  {
   "cell_type": "code",
   "execution_count": 12,
   "id": "a8031577-aa1b-42fa-a3f9-443bbcf2bb6d",
   "metadata": {},
   "outputs": [
    {
     "data": {
      "text/plain": [
       "[10, 9, 8, 7, 6, 5, 4, 3, 2, 1]"
      ]
     },
     "execution_count": 12,
     "metadata": {},
     "output_type": "execute_result"
    }
   ],
   "source": [
    "list_2[::-1]  #without any algorithm number reverse kora"
   ]
  },
  {
   "cell_type": "code",
   "execution_count": 14,
   "id": "794ae34a-510c-43dc-a93b-cafa520cf640",
   "metadata": {},
   "outputs": [
    {
     "data": {
      "text/plain": [
       "[6, 5, 4, 3, 2]"
      ]
     },
     "execution_count": 14,
     "metadata": {},
     "output_type": "execute_result"
    }
   ],
   "source": [
    "list_2[5:0:-1]"
   ]
  },
  {
   "cell_type": "code",
   "execution_count": 1,
   "id": "f5978316-9025-4d9f-9105-ed65922059a9",
   "metadata": {},
   "outputs": [
    {
     "data": {
      "text/plain": [
       "'idehaM'"
      ]
     },
     "execution_count": 1,
     "metadata": {},
     "output_type": "execute_result"
    }
   ],
   "source": [
    "my_name=\"Mahedi\" #negative index -6 to -1+\n",
    "my_name[::-1]"
   ]
  },
  {
   "cell_type": "code",
   "execution_count": 5,
   "id": "526aba38-3836-44d0-9adf-32051ec4a725",
   "metadata": {},
   "outputs": [
    {
     "data": {
      "text/plain": [
       "'lasyaF'"
      ]
     },
     "execution_count": 5,
     "metadata": {},
     "output_type": "execute_result"
    }
   ],
   "source": [
    "list_3=[\"Faysal\"]\n",
    "name=list_3[0]\n",
    "name[::-1]"
   ]
  },
  {
   "cell_type": "code",
   "execution_count": null,
   "id": "17b818ae-f6df-4405-958d-b4552f835a7b",
   "metadata": {},
   "outputs": [],
   "source": []
  }
 ],
 "metadata": {
  "kernelspec": {
   "display_name": "Python (MLTestvenv)",
   "language": "python",
   "name": "mltestvenv"
  },
  "language_info": {
   "codemirror_mode": {
    "name": "ipython",
    "version": 3
   },
   "file_extension": ".py",
   "mimetype": "text/x-python",
   "name": "python",
   "nbconvert_exporter": "python",
   "pygments_lexer": "ipython3",
   "version": "3.10.18"
  }
 },
 "nbformat": 4,
 "nbformat_minor": 5
}
