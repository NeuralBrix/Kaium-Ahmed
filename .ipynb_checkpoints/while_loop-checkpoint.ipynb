{
 "cells": [
  {
   "cell_type": "code",
   "execution_count": 2,
   "id": "66c09e12-5c95-4575-9df3-69faa7e8a43b",
   "metadata": {},
   "outputs": [
    {
     "name": "stdout",
     "output_type": "stream",
     "text": [
      "7\n"
     ]
    }
   ],
   "source": [
    "#increement\n",
    "x=5\n",
    "x+=2\n",
    "print(x)"
   ]
  },
  {
   "cell_type": "code",
   "execution_count": 3,
   "id": "62ae03fd-dbc1-4665-b342-8ce2b7c57e1e",
   "metadata": {},
   "outputs": [
    {
     "name": "stdout",
     "output_type": "stream",
     "text": [
      "4\n"
     ]
    }
   ],
   "source": [
    "#decreement\n",
    "x=5\n",
    "x-=1\n",
    "print(x)"
   ]
  },
  {
   "cell_type": "code",
   "execution_count": 5,
   "id": "9b23cfff-88d6-4d5a-a29d-dec557d017a0",
   "metadata": {},
   "outputs": [
    {
     "name": "stdout",
     "output_type": "stream",
     "text": [
      "Kaium\n",
      "Kaium\n",
      "Kaium\n",
      "Kaium\n",
      "Kaium\n",
      "Kaium\n",
      "Kaium\n",
      "Kaium\n",
      "Kaium\n",
      "Kaium\n"
     ]
    }
   ],
   "source": [
    "#loop basically repatetions\n",
    "for i in range(10):  #for use kori jokhon amra jani kotobar loop cholbe\n",
    "    print(\"Kaium\")"
   ]
  },
  {
   "cell_type": "code",
   "execution_count": null,
   "id": "2dd15db2-dbee-48a6-9714-3f5829612850",
   "metadata": {},
   "outputs": [],
   "source": [
    "#sysntax of while:   \n",
    "#while condition:\n",
    "    #code to execute\n",
    "import time\n",
    "while True:\n",
    "    print(\"Kaium\")\n",
    "    time.sleep(1)"
   ]
  },
  {
   "cell_type": "code",
   "execution_count": null,
   "id": "9bca5ac7-1549-4175-973e-2a84f14d1faa",
   "metadata": {},
   "outputs": [],
   "source": []
  }
 ],
 "metadata": {
  "kernelspec": {
   "display_name": "Python (MLTestvenv)",
   "language": "python",
   "name": "mltestvenv"
  },
  "language_info": {
   "codemirror_mode": {
    "name": "ipython",
    "version": 3
   },
   "file_extension": ".py",
   "mimetype": "text/x-python",
   "name": "python",
   "nbconvert_exporter": "python",
   "pygments_lexer": "ipython3",
   "version": "3.10.18"
  }
 },
 "nbformat": 4,
 "nbformat_minor": 5
}
