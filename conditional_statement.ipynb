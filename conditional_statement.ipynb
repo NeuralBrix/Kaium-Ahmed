{
 "cells": [
  {
   "cell_type": "code",
   "execution_count": null,
   "id": "752ced3e-f747-422d-ad82-2635e303fc43",
   "metadata": {},
   "outputs": [],
   "source": [
    "# parenthesis () , curly braces{} , brecket []\n",
    "# tup=(1,2,3,4,5)  not changable after defining is done .  # inmutable :tup,int,float,str,bool,list,set,frozenset,bytes\n",
    "# set_1={1,2,3,4,5}    normally no duplicate data , if there have any duplicate data it will remove one data\n",
    "# list_1 = [1,2,3,4,5] can have duplicate data \n"
   ]
  },
  {
   "cell_type": "code",
   "execution_count": 14,
   "id": "eb53f5d0-98da-4af0-a350-d8ec11da7927",
   "metadata": {},
   "outputs": [
    {
     "name": "stdout",
     "output_type": "stream",
     "text": [
      "False\n"
     ]
    }
   ],
   "source": [
    "tup1=(1,2,3,4,5)\n",
    "tup2=(1,2,3,4,5)\n",
    "print(tup1 is tup2)"
   ]
  },
  {
   "cell_type": "code",
   "execution_count": 8,
   "id": "8a6b05d6-2e6c-4e14-96bc-6839eba2f226",
   "metadata": {},
   "outputs": [
    {
     "name": "stdout",
     "output_type": "stream",
     "text": [
      "{1, 2, 3, 4, 5}\n"
     ]
    }
   ],
   "source": [
    "set_1={1,2,3,4,5,5} \n",
    "print(set_1)"
   ]
  },
  {
   "cell_type": "code",
   "execution_count": 9,
   "id": "a0d045fb-e9bd-463e-a68d-74790f9673eb",
   "metadata": {},
   "outputs": [
    {
     "name": "stdout",
     "output_type": "stream",
     "text": [
      "[1, 2, 3, 4, 5]\n"
     ]
    }
   ],
   "source": [
    "list_1 = [1,2,3,4,5]\n",
    "print(list_1)"
   ]
  },
  {
   "cell_type": "code",
   "execution_count": 2,
   "id": "41607607-7dd5-48ea-8db2-918d278d9ee0",
   "metadata": {},
   "outputs": [
    {
     "name": "stdout",
     "output_type": "stream",
     "text": [
      "hello\n"
     ]
    }
   ],
   "source": [
    "print(\"hello\")\n"
   ]
  },
  {
   "cell_type": "code",
   "execution_count": 3,
   "id": "9b604829-bf03-4a2b-8389-bd962440a870",
   "metadata": {},
   "outputs": [
    {
     "name": "stdout",
     "output_type": "stream",
     "text": [
      "True\n",
      "False\n"
     ]
    }
   ],
   "source": [
    "#sequence learning\n",
    "list_1 = [1,2,3,4,5]  #1,2,3,4,5 theese are items and index starts from 0\n",
    "list_2 = [1,2,3,4,5]\n",
    "print(list_1 == list_2)\n",
    "print(list_1 is list_2)"
   ]
  },
  {
   "cell_type": "code",
   "execution_count": null,
   "id": "8efffd97-2b9c-4521-a1b7-2c760cf813fd",
   "metadata": {},
   "outputs": [],
   "source": []
  }
 ],
 "metadata": {
  "kernelspec": {
   "display_name": "Python (MLTestvenv)",
   "language": "python",
   "name": "mltestvenv"
  },
  "language_info": {
   "codemirror_mode": {
    "name": "ipython",
    "version": 3
   },
   "file_extension": ".py",
   "mimetype": "text/x-python",
   "name": "python",
   "nbconvert_exporter": "python",
   "pygments_lexer": "ipython3",
   "version": "3.10.18"
  }
 },
 "nbformat": 4,
 "nbformat_minor": 5
}
