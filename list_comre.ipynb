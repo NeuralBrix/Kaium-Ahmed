{
 "cells": [
  {
   "cell_type": "code",
   "execution_count": 1,
   "id": "f5a49f3d-7a25-4e84-b486-0e3fb3262d55",
   "metadata": {},
   "outputs": [
    {
     "name": "stdout",
     "output_type": "stream",
     "text": [
      "[0, 1, 4, 9, 16, 25, 36, 49, 64, 81]\n"
     ]
    }
   ],
   "source": [
    "square=[]\n",
    "for i in range(10):\n",
    "    square.append(i**2) \n",
    "print(square)"
   ]
  },
  {
   "cell_type": "code",
   "execution_count": 2,
   "id": "f578f0b9-2569-44c7-840b-1c9e143c8ce3",
   "metadata": {},
   "outputs": [
    {
     "data": {
      "text/plain": [
       "[0, 1, 4, 9, 16, 25, 36, 49, 64, 81]"
      ]
     },
     "execution_count": 2,
     "metadata": {},
     "output_type": "execute_result"
    }
   ],
   "source": [
    "# list comprehension \n",
    "# [expression for item in itearble]\n",
    "[i**2 for i in range(10)]"
   ]
  },
  {
   "cell_type": "code",
   "execution_count": 3,
   "id": "68d85902-6968-4cb2-b0a7-feee1baf8a33",
   "metadata": {},
   "outputs": [
    {
     "name": "stdout",
     "output_type": "stream",
     "text": [
      "Class roll: 1, value: kaium\n",
      "Class roll: 2, value: sakin\n",
      "Class roll: 3, value: rifat\n",
      "Class roll: 4, value: momo\n",
      "Class roll: 5, value: saiem\n"
     ]
    }
   ],
   "source": [
    "list_1=[\"kaium\",\"sakin\",\"rifat\",\"momo\",\"saiem\"]   #indey:[0,1,2,3,4]\n",
    "#syntax for enumerate :  for index,value in enumerate(iterable,start)\n",
    "for index, value in enumerate(list_1,start=1):\n",
    "    print(f\"Class roll: {index}, value: {value}\")"
   ]
  },
  {
   "cell_type": "code",
   "execution_count": null,
   "id": "8ce78fe0-9fa4-4ff9-a84b-f6b7e0e4fe86",
   "metadata": {},
   "outputs": [],
   "source": []
  }
 ],
 "metadata": {
  "kernelspec": {
   "display_name": "Python (MLTestvenv)",
   "language": "python",
   "name": "mltestvenv"
  },
  "language_info": {
   "codemirror_mode": {
    "name": "ipython",
    "version": 3
   },
   "file_extension": ".py",
   "mimetype": "text/x-python",
   "name": "python",
   "nbconvert_exporter": "python",
   "pygments_lexer": "ipython3",
   "version": "3.10.18"
  }
 },
 "nbformat": 4,
 "nbformat_minor": 5
}
