{
 "cells": [
  {
   "cell_type": "code",
   "execution_count": 5,
   "id": "078fadf2-bee1-4771-9f42-73438f23699d",
   "metadata": {},
   "outputs": [],
   "source": [
    "def my_name(name):\n",
    "    return f\"My name  is {name}\""
   ]
  },
  {
   "cell_type": "code",
   "execution_count": 6,
   "id": "da4f29ee-f3e4-4221-89a5-7834a33e716f",
   "metadata": {},
   "outputs": [],
   "source": [
    "my_var=my_name(\"Kaium\")"
   ]
  },
  {
   "cell_type": "code",
   "execution_count": 7,
   "id": "d644d0a3-a425-4df5-b8c9-d946084bd4cd",
   "metadata": {},
   "outputs": [
    {
     "name": "stdout",
     "output_type": "stream",
     "text": [
      "My name  is Kaium\n"
     ]
    }
   ],
   "source": [
    "print(my_var)"
   ]
  },
  {
   "cell_type": "code",
   "execution_count": null,
   "id": "bd462b39-2284-4ddd-8f97-45cf2557504e",
   "metadata": {},
   "outputs": [],
   "source": []
  }
 ],
 "metadata": {
  "kernelspec": {
   "display_name": "Python (MLTestvenv)",
   "language": "python",
   "name": "mltestvenv"
  },
  "language_info": {
   "codemirror_mode": {
    "name": "ipython",
    "version": 3
   },
   "file_extension": ".py",
   "mimetype": "text/x-python",
   "name": "python",
   "nbconvert_exporter": "python",
   "pygments_lexer": "ipython3",
   "version": "3.10.18"
  }
 },
 "nbformat": 4,
 "nbformat_minor": 5
}
