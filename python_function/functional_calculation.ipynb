{
 "cells": [
  {
   "cell_type": "code",
   "execution_count": 2,
   "id": "20392c9a-ef0d-43ba-ad06-b4e9273b842c",
   "metadata": {},
   "outputs": [
    {
     "name": "stdin",
     "output_type": "stream",
     "text": [
      "Enter first number:  2\n",
      "Enter second number:  5\n"
     ]
    },
    {
     "name": "stdout",
     "output_type": "stream",
     "text": [
      "Addition: 7.0\n",
      "Subtraction: -3.0\n",
      "Multiplication: 10.0\n",
      "Division: 0.4\n"
     ]
    }
   ],
   "source": [
    "def add(a, b):\n",
    "    print(f\"Addition: {a + b}\")\n",
    "    print(f\"Subtraction: {a - b}\")\n",
    "    print(f\"Multiplication: {a * b}\")\n",
    "    print(f\"Division: {a / b if b != 0 else 'Division by zero not allowed'}\")\n",
    "\n",
    "num1 = float(input(\"Enter first number: \"))\n",
    "num2 = float(input(\"Enter second number: \"))\n",
    "\n",
    "add(num1, num2)\n"
   ]
  },
  {
   "cell_type": "code",
   "execution_count": null,
   "id": "b3f0f144-be15-4145-bc97-0888299ad4f1",
   "metadata": {},
   "outputs": [],
   "source": []
  }
 ],
 "metadata": {
  "kernelspec": {
   "display_name": "Python (MLTestvenv)",
   "language": "python",
   "name": "mltestvenv"
  },
  "language_info": {
   "codemirror_mode": {
    "name": "ipython",
    "version": 3
   },
   "file_extension": ".py",
   "mimetype": "text/x-python",
   "name": "python",
   "nbconvert_exporter": "python",
   "pygments_lexer": "ipython3",
   "version": "3.10.18"
  }
 },
 "nbformat": 4,
 "nbformat_minor": 5
}
