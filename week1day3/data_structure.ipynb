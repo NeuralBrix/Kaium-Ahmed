{
 "cells": [
  {
   "cell_type": "code",
   "execution_count": 1,
   "id": "0bf144fa-deaf-43cc-8f7d-4d37ab7b2d22",
   "metadata": {},
   "outputs": [],
   "source": [
    "##list declare\n",
    "# l= []\n",
    "l=list()\n",
    "list_1=[1,2,3,4,5] #index 0 to 4 "
   ]
  },
  {
   "cell_type": "code",
   "execution_count": 2,
   "id": "9b134f1a-1224-48a8-8411-8533a2207c22",
   "metadata": {},
   "outputs": [
    {
     "name": "stdout",
     "output_type": "stream",
     "text": [
      "kaium\n"
     ]
    }
   ],
   "source": [
    "list_1=[\"kaium\",\"momo\",\"saiem\",\"ahmed\",\"shampa\"]\n",
    "#accessing elements\n",
    "print(list_1[0]) #list_name[index]"
   ]
  },
  {
   "cell_type": "code",
   "execution_count": 5,
   "id": "08bea3cc-fc2f-4483-a464-12fe851a352f",
   "metadata": {},
   "outputs": [
    {
     "name": "stdout",
     "output_type": "stream",
     "text": [
      "shampa\n"
     ]
    }
   ],
   "source": [
    "#negative indexing\n",
    "print(list_1[-1]) "
   ]
  },
  {
   "cell_type": "code",
   "execution_count": 7,
   "id": "5391389b-97ba-40e1-a131-f6987f8dec57",
   "metadata": {},
   "outputs": [
    {
     "data": {
      "text/plain": [
       "['Abdul Kaium', 'momo', 'saiem', 'ahmed', 'shampa']"
      ]
     },
     "execution_count": 7,
     "metadata": {},
     "output_type": "execute_result"
    }
   ],
   "source": [
    "#modifying elements\n",
    "list_1[0]=\"Abdul Kaium\"\n",
    "list_1"
   ]
  },
  {
   "cell_type": "code",
   "execution_count": 14,
   "id": "382273ea-ccb6-46ae-973f-738380b6db25",
   "metadata": {},
   "outputs": [
    {
     "data": {
      "text/plain": [
       "['Abdul Kaium',\n",
       " 'momo',\n",
       " 'Rafiq',\n",
       " 'Rafiq',\n",
       " 'saiem',\n",
       " 'ahmed',\n",
       " 'shampa',\n",
       " 'New Element',\n",
       " 'New Element',\n",
       " 'komola',\n",
       " 'komola']"
      ]
     },
     "execution_count": 14,
     "metadata": {},
     "output_type": "execute_result"
    }
   ],
   "source": [
    "list_1.append(\"komola\") \n",
    "list_1.insert(2,\"Rafiq\") #insert(index,value)\n",
    "list_1"
   ]
  },
  {
   "cell_type": "code",
   "execution_count": 12,
   "id": "9bb52277-d52a-4c87-b210-355bc26e0027",
   "metadata": {},
   "outputs": [
    {
     "data": {
      "text/plain": [
       "['Abdul Kaium',\n",
       " 'momo',\n",
       " 'saiem',\n",
       " 'ahmed',\n",
       " 'shampa',\n",
       " 'New Element',\n",
       " 'New Element']"
      ]
     },
     "execution_count": 12,
     "metadata": {},
     "output_type": "execute_result"
    }
   ],
   "source": [
    "#REmove:  1.del :delete element at index number    2. pop: remove last element 3. Remove : remove element by value\n",
    "del list_1[2]\n",
    "list_1"
   ]
  },
  {
   "cell_type": "code",
   "execution_count": 15,
   "id": "8535da18-ff61-4eb8-b09f-caa5e9f45b29",
   "metadata": {},
   "outputs": [
    {
     "data": {
      "text/plain": [
       "'komola'"
      ]
     },
     "execution_count": 15,
     "metadata": {},
     "output_type": "execute_result"
    }
   ],
   "source": [
    "list_1.pop() #remove last element .......also it stored that value to himself and we can use this value by assiging  a variable"
   ]
  },
  {
   "cell_type": "code",
   "execution_count": 16,
   "id": "82b23f03-e4bd-4bb2-9f2c-73141212d012",
   "metadata": {},
   "outputs": [
    {
     "data": {
      "text/plain": [
       "['Abdul Kaium',\n",
       " 'momo',\n",
       " 'Rafiq',\n",
       " 'Rafiq',\n",
       " 'saiem',\n",
       " 'ahmed',\n",
       " 'shampa',\n",
       " 'New Element',\n",
       " 'New Element',\n",
       " 'komola']"
      ]
     },
     "execution_count": 16,
     "metadata": {},
     "output_type": "execute_result"
    }
   ],
   "source": [
    "list_1"
   ]
  },
  {
   "cell_type": "code",
   "execution_count": 17,
   "id": "5c78281c-5667-46e9-881e-2a5164410a40",
   "metadata": {},
   "outputs": [],
   "source": [
    "#remove element by vaue\n",
    "list_1.remove(\"New Element\")"
   ]
  },
  {
   "cell_type": "code",
   "execution_count": 18,
   "id": "bb8b2acd-f633-4833-b99c-ba736ce8af6e",
   "metadata": {},
   "outputs": [],
   "source": [
    "list_1.remove(\"New Element\")"
   ]
  },
  {
   "cell_type": "code",
   "execution_count": 20,
   "id": "e7b36b9c-bd37-4c3b-aba3-82347fe9c540",
   "metadata": {},
   "outputs": [
    {
     "data": {
      "text/plain": [
       "['Abdul Kaium', 'momo', 'Rafiq', 'Rafiq', 'saiem', 'ahmed', 'shampa', 'komola']"
      ]
     },
     "execution_count": 20,
     "metadata": {},
     "output_type": "execute_result"
    }
   ],
   "source": [
    "list_1"
   ]
  }
 ],
 "metadata": {
  "kernelspec": {
   "display_name": "Python (MLTestvenv)",
   "language": "python",
   "name": "mltestvenv"
  },
  "language_info": {
   "codemirror_mode": {
    "name": "ipython",
    "version": 3
   },
   "file_extension": ".py",
   "mimetype": "text/x-python",
   "name": "python",
   "nbconvert_exporter": "python",
   "pygments_lexer": "ipython3",
   "version": "3.10.18"
  }
 },
 "nbformat": 4,
 "nbformat_minor": 5
}
