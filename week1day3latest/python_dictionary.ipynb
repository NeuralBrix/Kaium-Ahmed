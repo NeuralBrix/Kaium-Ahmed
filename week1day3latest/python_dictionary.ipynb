{
 "cells": [
  {
   "cell_type": "code",
   "execution_count": 4,
   "id": "29f85789-6531-42d5-adf2-48800aaeb298",
   "metadata": {},
   "outputs": [],
   "source": [
    "# dictionary = a collection of {key:value} pairs\n",
    "#            = ordered and changeable. No duplicates . but the keys are inmutable\n",
    "\n",
    "first_dictionary = {}   #syntax: dictionary_name = {key1:value1, key2: value2,.....}"
   ]
  },
  {
   "cell_type": "code",
   "execution_count": 5,
   "id": "fe7b8276-b1c7-4a74-9372-82a9cdb63d11",
   "metadata": {},
   "outputs": [
    {
     "data": {
      "text/plain": [
       "-1561191644515161036"
      ]
     },
     "execution_count": 5,
     "metadata": {},
     "output_type": "execute_result"
    }
   ],
   "source": [
    "hash(\"accuracy\")"
   ]
  },
  {
   "cell_type": "code",
   "execution_count": 1,
   "id": "8160fec7-2c64-4e8e-b513-4a00f044c84b",
   "metadata": {
    "collapsed": true,
    "jupyter": {
     "outputs_hidden": true
    }
   },
   "outputs": [
    {
     "name": "stdout",
     "output_type": "stream",
     "text": [
      "['__class__', '__class_getitem__', '__contains__', '__delattr__', '__delitem__', '__dir__', '__doc__', '__eq__', '__format__', '__ge__', '__getattribute__', '__getitem__', '__gt__', '__hash__', '__init__', '__init_subclass__', '__ior__', '__iter__', '__le__', '__len__', '__lt__', '__ne__', '__new__', '__or__', '__reduce__', '__reduce_ex__', '__repr__', '__reversed__', '__ror__', '__setattr__', '__setitem__', '__sizeof__', '__str__', '__subclasshook__', 'clear', 'copy', 'fromkeys', 'get', 'items', 'keys', 'pop', 'popitem', 'setdefault', 'update', 'values']\n"
     ]
    }
   ],
   "source": [
    "capitals = {\"USA\" :\"Washington D.C.\",\n",
    "           \"India\" : \"New Delhi\",\n",
    "           \"China\":\"Beijing\",\n",
    "           \"Russia\" : \"Moscow\"}\n",
    "print(dir(capitals))"
   ]
  },
  {
   "cell_type": "code",
   "execution_count": 2,
   "id": "c168e6c8-0446-46dd-92a0-20d5d7a293d8",
   "metadata": {
    "collapsed": true,
    "jupyter": {
     "outputs_hidden": true
    }
   },
   "outputs": [
    {
     "name": "stdout",
     "output_type": "stream",
     "text": [
      "Help on dict object:\n",
      "\n",
      "class dict(object)\n",
      " |  dict() -> new empty dictionary\n",
      " |  dict(mapping) -> new dictionary initialized from a mapping object's\n",
      " |      (key, value) pairs\n",
      " |  dict(iterable) -> new dictionary initialized as if via:\n",
      " |      d = {}\n",
      " |      for k, v in iterable:\n",
      " |          d[k] = v\n",
      " |  dict(**kwargs) -> new dictionary initialized with the name=value pairs\n",
      " |      in the keyword argument list.  For example:  dict(one=1, two=2)\n",
      " |  \n",
      " |  Built-in subclasses:\n",
      " |      StgDict\n",
      " |  \n",
      " |  Methods defined here:\n",
      " |  \n",
      " |  __contains__(self, key, /)\n",
      " |      True if the dictionary has the specified key, else False.\n",
      " |  \n",
      " |  __delitem__(self, key, /)\n",
      " |      Delete self[key].\n",
      " |  \n",
      " |  __eq__(self, value, /)\n",
      " |      Return self==value.\n",
      " |  \n",
      " |  __ge__(self, value, /)\n",
      " |      Return self>=value.\n",
      " |  \n",
      " |  __getattribute__(self, name, /)\n",
      " |      Return getattr(self, name).\n",
      " |  \n",
      " |  __getitem__(...)\n",
      " |      x.__getitem__(y) <==> x[y]\n",
      " |  \n",
      " |  __gt__(self, value, /)\n",
      " |      Return self>value.\n",
      " |  \n",
      " |  __init__(self, /, *args, **kwargs)\n",
      " |      Initialize self.  See help(type(self)) for accurate signature.\n",
      " |  \n",
      " |  __ior__(self, value, /)\n",
      " |      Return self|=value.\n",
      " |  \n",
      " |  __iter__(self, /)\n",
      " |      Implement iter(self).\n",
      " |  \n",
      " |  __le__(self, value, /)\n",
      " |      Return self<=value.\n",
      " |  \n",
      " |  __len__(self, /)\n",
      " |      Return len(self).\n",
      " |  \n",
      " |  __lt__(self, value, /)\n",
      " |      Return self<value.\n",
      " |  \n",
      " |  __ne__(self, value, /)\n",
      " |      Return self!=value.\n",
      " |  \n",
      " |  __or__(self, value, /)\n",
      " |      Return self|value.\n",
      " |  \n",
      " |  __repr__(self, /)\n",
      " |      Return repr(self).\n",
      " |  \n",
      " |  __reversed__(self, /)\n",
      " |      Return a reverse iterator over the dict keys.\n",
      " |  \n",
      " |  __ror__(self, value, /)\n",
      " |      Return value|self.\n",
      " |  \n",
      " |  __setitem__(self, key, value, /)\n",
      " |      Set self[key] to value.\n",
      " |  \n",
      " |  __sizeof__(...)\n",
      " |      D.__sizeof__() -> size of D in memory, in bytes\n",
      " |  \n",
      " |  clear(...)\n",
      " |      D.clear() -> None.  Remove all items from D.\n",
      " |  \n",
      " |  copy(...)\n",
      " |      D.copy() -> a shallow copy of D\n",
      " |  \n",
      " |  get(self, key, default=None, /)\n",
      " |      Return the value for key if key is in the dictionary, else default.\n",
      " |  \n",
      " |  items(...)\n",
      " |      D.items() -> a set-like object providing a view on D's items\n",
      " |  \n",
      " |  keys(...)\n",
      " |      D.keys() -> a set-like object providing a view on D's keys\n",
      " |  \n",
      " |  pop(...)\n",
      " |      D.pop(k[,d]) -> v, remove specified key and return the corresponding value.\n",
      " |      \n",
      " |      If the key is not found, return the default if given; otherwise,\n",
      " |      raise a KeyError.\n",
      " |  \n",
      " |  popitem(self, /)\n",
      " |      Remove and return a (key, value) pair as a 2-tuple.\n",
      " |      \n",
      " |      Pairs are returned in LIFO (last-in, first-out) order.\n",
      " |      Raises KeyError if the dict is empty.\n",
      " |  \n",
      " |  setdefault(self, key, default=None, /)\n",
      " |      Insert key with a value of default if key is not in the dictionary.\n",
      " |      \n",
      " |      Return the value for key if key is in the dictionary, else default.\n",
      " |  \n",
      " |  update(...)\n",
      " |      D.update([E, ]**F) -> None.  Update D from dict/iterable E and F.\n",
      " |      If E is present and has a .keys() method, then does:  for k in E: D[k] = E[k]\n",
      " |      If E is present and lacks a .keys() method, then does:  for k, v in E: D[k] = v\n",
      " |      In either case, this is followed by: for k in F:  D[k] = F[k]\n",
      " |  \n",
      " |  values(...)\n",
      " |      D.values() -> an object providing a view on D's values\n",
      " |  \n",
      " |  ----------------------------------------------------------------------\n",
      " |  Class methods defined here:\n",
      " |  \n",
      " |  __class_getitem__(...) from builtins.type\n",
      " |      See PEP 585\n",
      " |  \n",
      " |  fromkeys(iterable, value=None, /) from builtins.type\n",
      " |      Create a new dictionary with keys from iterable and values set to value.\n",
      " |  \n",
      " |  ----------------------------------------------------------------------\n",
      " |  Static methods defined here:\n",
      " |  \n",
      " |  __new__(*args, **kwargs) from builtins.type\n",
      " |      Create and return a new object.  See help(type) for accurate signature.\n",
      " |  \n",
      " |  ----------------------------------------------------------------------\n",
      " |  Data and other attributes defined here:\n",
      " |  \n",
      " |  __hash__ = None\n",
      "\n",
      "None\n"
     ]
    }
   ],
   "source": [
    "print(help(capitals))"
   ]
  },
  {
   "cell_type": "code",
   "execution_count": 3,
   "id": "2f013dc1-9464-4d91-b048-ecd44c4be7fc",
   "metadata": {},
   "outputs": [
    {
     "name": "stdout",
     "output_type": "stream",
     "text": [
      "Washington D.C.\n"
     ]
    }
   ],
   "source": [
    "print(capitals.get(\"USA\"))"
   ]
  },
  {
   "cell_type": "code",
   "execution_count": 4,
   "id": "bcfa5abc-1056-44a0-8700-e839c4edd875",
   "metadata": {},
   "outputs": [
    {
     "name": "stdout",
     "output_type": "stream",
     "text": [
      "None\n"
     ]
    }
   ],
   "source": [
    "print(capitals.get(\"Bangladesh\")) #if the key is not there in the dictionary it will print 'none'"
   ]
  },
  {
   "cell_type": "code",
   "execution_count": 5,
   "id": "8f4bcff6-7d23-4c73-b5da-fa1ff14425c6",
   "metadata": {},
   "outputs": [
    {
     "name": "stdout",
     "output_type": "stream",
     "text": [
      "{'USA': 'Washington D.C.', 'India': 'New Delhi', 'China': 'Beijing', 'Russia': 'Moscow', 'Germany': 'berlin'}\n"
     ]
    }
   ],
   "source": [
    "capitals.update({\"Germany\":\"berlin\"})\n",
    "print(capitals)"
   ]
  },
  {
   "cell_type": "code",
   "execution_count": 8,
   "id": "914e6d41-41fb-46e0-947d-d15475136119",
   "metadata": {},
   "outputs": [
    {
     "name": "stdout",
     "output_type": "stream",
     "text": [
      "{'USA': 'Washington D.C.', 'India': 'New Delhi', 'China': 'Beijing', 'Russia': 'Moscow'}\n"
     ]
    }
   ],
   "source": [
    "capitals.pop(\"Germany\") #to remove any item\n",
    "print(capitals)"
   ]
  },
  {
   "cell_type": "code",
   "execution_count": 9,
   "id": "4dc45992-b2ab-49dd-9c64-b530c06da973",
   "metadata": {},
   "outputs": [
    {
     "name": "stdout",
     "output_type": "stream",
     "text": [
      "{'USA': 'Washington D.C.', 'India': 'New Delhi', 'China': 'Beijing'}\n"
     ]
    }
   ],
   "source": [
    "capitals.popitem() #it will automatically  remove any the last item\n",
    "print(capitals)"
   ]
  },
  {
   "cell_type": "code",
   "execution_count": 22,
   "id": "f0a25bba-0d7c-4074-a55a-d9ba226b3348",
   "metadata": {},
   "outputs": [],
   "source": [
    "#to clear the dictionarry\n",
    "# capitals.clear()"
   ]
  },
  {
   "cell_type": "code",
   "execution_count": 10,
   "id": "01fb6ed5-2bf8-4568-a053-c484aee31d8b",
   "metadata": {},
   "outputs": [
    {
     "name": "stdout",
     "output_type": "stream",
     "text": [
      "{'USA': 'Washington D.C.', 'India': 'New Delhi', 'China': 'Beijing', 'Germany': 'berlin'}\n"
     ]
    }
   ],
   "source": [
    "capitals.update({\"Germany\":\"berlin\"})\n",
    "print(capitals)"
   ]
  },
  {
   "cell_type": "code",
   "execution_count": 12,
   "id": "79b77de3-58c5-41ea-bc7a-8cd2bdd561da",
   "metadata": {},
   "outputs": [
    {
     "name": "stdout",
     "output_type": "stream",
     "text": [
      "dict_keys(['USA', 'India', 'China', 'Germany'])\n"
     ]
    }
   ],
   "source": [
    "keys=capitals.keys() #to find the keys\n",
    "print(keys)"
   ]
  },
  {
   "cell_type": "code",
   "execution_count": 13,
   "id": "519c6be6-a52c-450a-ac68-4c28ee6f11cd",
   "metadata": {},
   "outputs": [
    {
     "name": "stdout",
     "output_type": "stream",
     "text": [
      "USA\n",
      "India\n",
      "China\n",
      "Germany\n"
     ]
    }
   ],
   "source": [
    "for key in capitals.keys():   #to iterate over every key\n",
    "    print(key)"
   ]
  },
  {
   "cell_type": "code",
   "execution_count": 14,
   "id": "c9c54e98-ff63-4c3b-97c1-7800caa8f85a",
   "metadata": {},
   "outputs": [
    {
     "name": "stdout",
     "output_type": "stream",
     "text": [
      "dict_values(['Washington D.C.', 'New Delhi', 'Beijing', 'berlin'])\n"
     ]
    }
   ],
   "source": [
    "values=capitals.values() #to find the values\n",
    "print(values)"
   ]
  },
  {
   "cell_type": "code",
   "execution_count": 15,
   "id": "e51d73f3-f6ec-456e-8b15-3ec08b08e0d1",
   "metadata": {},
   "outputs": [
    {
     "name": "stdout",
     "output_type": "stream",
     "text": [
      "Washington D.C.\n",
      "New Delhi\n",
      "Beijing\n",
      "berlin\n"
     ]
    }
   ],
   "source": [
    "for value in capitals.values():   #to iterate over every values\n",
    "    print(value)"
   ]
  },
  {
   "cell_type": "code",
   "execution_count": 16,
   "id": "bfee04ae-d391-43a3-b69a-9f3c801482cd",
   "metadata": {},
   "outputs": [
    {
     "name": "stdout",
     "output_type": "stream",
     "text": [
      "dict_items([('USA', 'Washington D.C.'), ('India', 'New Delhi'), ('China', 'Beijing'), ('Germany', 'berlin')])\n"
     ]
    }
   ],
   "source": [
    "items=capitals.items() #items returns a dictionary obejct which resembles a 2D list of tuples\n",
    "print(items)"
   ]
  },
  {
   "cell_type": "code",
   "execution_count": 18,
   "id": "09ddc077-18b6-4529-bf2f-9ffa2ca8bdcf",
   "metadata": {},
   "outputs": [
    {
     "name": "stdout",
     "output_type": "stream",
     "text": [
      "USA:Washington D.C.\n",
      "India:New Delhi\n",
      "China:Beijing\n",
      "Germany:berlin\n"
     ]
    }
   ],
   "source": [
    "for key,value in capitals.items():   #to iterate over every key value pair\n",
    "    print(f\"{key}:{value}\")"
   ]
  },
  {
   "cell_type": "code",
   "execution_count": 21,
   "id": "19c5bfe3-648f-4417-99d6-35bba3399df4",
   "metadata": {},
   "outputs": [
    {
     "name": "stdout",
     "output_type": "stream",
     "text": [
      "['Rahim', 'Karim', 'Sabina', 'Ayesha', 'Hasan', 'Monir', 'Shirin']\n",
      "[85, 72, 80, 90, 76, 88, 69]\n"
     ]
    }
   ],
   "source": [
    "names = [\"Rahim\", \"Karim\", \"Sabina\", \"Ayesha\", \"Hasan\", \"Monir\", \"Shirin\"]\n",
    "marks_list = [85, 72, 80, 90, 76, 88, 69]\n",
    "print(names)\n",
    "print(marks_list)"
   ]
  },
  {
   "cell_type": "code",
   "execution_count": 38,
   "id": "e10e649b-e526-4c66-8206-b2a3533f3326",
   "metadata": {},
   "outputs": [
    {
     "name": "stdout",
     "output_type": "stream",
     "text": [
      "{'Rahim': 85, 'Karim': 72, 'Sabina': 80, 'Ayesha': 90, 'Hasan': 76, 'Monir': 88, 'Shirin': 69}\n",
      "Average Marks :  80.0\n"
     ]
    }
   ],
   "source": [
    "my_dict={}\n",
    "# len(names) counts how many items are in the list\n",
    "for i in range(len(names)):      #This is a loop that will run once for each index.\n",
    "    my_dict[names[i]] = marks_list[i]\n",
    "print(my_dict)\n",
    "average = sum(marks_list) / len(marks_list)\n",
    "print(\"Average Marks : \",average)"
   ]
  },
  {
   "cell_type": "code",
   "execution_count": null,
   "id": "fc8d5690-c1e0-46c1-aea7-91afaed84d4d",
   "metadata": {},
   "outputs": [],
   "source": []
  }
 ],
 "metadata": {
  "kernelspec": {
   "display_name": "Python (MLTestvenv)",
   "language": "python",
   "name": "mltestvenv"
  },
  "language_info": {
   "codemirror_mode": {
    "name": "ipython",
    "version": 3
   },
   "file_extension": ".py",
   "mimetype": "text/x-python",
   "name": "python",
   "nbconvert_exporter": "python",
   "pygments_lexer": "ipython3",
   "version": "3.10.18"
  }
 },
 "nbformat": 4,
 "nbformat_minor": 5
}
